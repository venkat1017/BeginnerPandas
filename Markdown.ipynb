{
 "cells": [
  {
   "cell_type": "markdown",
   "metadata": {},
   "source": [
    "# What is Markdown ?\n",
    "Markdown is a way to style text on the web. You control the display of the document; formatting words as bold or italic, adding images, and creating lists are just a few of the things we can do with Markdown. Mostly, Markdown is just regular text with a few non-alphabetic characters thrown in, like # or *.\n",
    "\n",
    "Markdown is a text-to-HTML conversion tool for web writers. Markdown allows you to write using an easy-to-read, easy-to-write plain text format, then convert it to structurally valid XHTML (or HTML).\n",
    "\n",
    "Thus, “Markdown” is two things: (1) a plain text formatting syntax; and (2) a software tool, written in Perl, that converts the plain text formatting to HTML. See the Syntax page for details pertaining to Markdown’s formatting syntax. You can try it out, right now, using the online Dingus.\n",
    "\n",
    "The overriding design goal for Markdown’s formatting syntax is to make it as readable as possible. The idea is that a Markdown-formatted document should be publishable as-is, as plain text, without looking like it’s been marked up with tags or formatting instructions. While Markdown’s syntax has been influenced by several existing text-to-HTML filters, the single biggest source of inspiration for Markdown’s syntax is the format of plain text email.\n",
    "\n",
    "#### You can use Markdown most places around GitHub:\n",
    "-Gists\n"
   ]
  },
  {
   "cell_type": "markdown",
   "metadata": {},
   "source": [
    "# How to use Headers ?"
   ]
  },
  {
   "cell_type": "markdown",
   "metadata": {},
   "source": [
    "You can add headings by starting a line with one (or multiple) # followed by a space, as in the following example:\n",
    "\n",
    "# This is an h1 tag\n",
    "## This is an h2 tag\n",
    "###### This is an h6 tag"
   ]
  },
  {
   "cell_type": "markdown",
   "metadata": {},
   "source": [
    "# How to create Unordered List:"
   ]
  },
  {
   "cell_type": "markdown",
   "metadata": {},
   "source": [
    "You can build nested itemized or enumerated lists:\n",
    "\n",
    "- File\n",
    "    - Rename\n",
    "    - Save and checkpoint; 'CTRL' + s\n",
    "    - Print Preview\n",
    "    - New Notebook\n",
    "- Cell\n",
    "    - Run All\n",
    "- Help\n",
    "    - Python\n",
    "    - NumPy\n",
    "    - SciPy"
   ]
  },
  {
   "cell_type": "markdown",
   "metadata": {},
   "source": [
    "# How to Create an Order List:"
   ]
  },
  {
   "cell_type": "markdown",
   "metadata": {},
   "source": [
    "Make sure to add proper indentation with numbered list.\n",
    "1. Alpha\n",
    "2. Bravo\n",
    "    1. Red\n",
    "        1. Apple\n",
    "        2. Crayon\n",
    "    2. Green\n",
    "    3. Blue\n",
    "3. Charlie\n",
    "4. Delta\n",
    "5. Echo"
   ]
  },
  {
   "cell_type": "markdown",
   "metadata": {},
   "source": [
    "# Here come the Block Quotes!"
   ]
  },
  {
   "cell_type": "markdown",
   "metadata": {},
   "source": [
    "To create an block Quotes just add  \">\" Symbol before the quote.\n",
    "\n",
    "##### Benjamin Franklin said:\n",
    "> Early to bed and early to rise, makes a man healthy, wealthy, and wise.    "
   ]
  },
  {
   "cell_type": "markdown",
   "metadata": {},
   "source": [
    "# How much Emphasis ?"
   ]
  },
  {
   "cell_type": "markdown",
   "metadata": {},
   "source": [
    "Adding bold and italics to text is important to provide emphasis to text!\n",
    "Follow the below examples .\n",
    "\n",
    "*This text will be italic*\n",
    "\n",
    "_This will also be italic_\n",
    "\n",
    "**This text will be bold**\n",
    "\n",
    "__This will also be bold__\n",
    "\n",
    "*You **can** combine them*\n"
   ]
  },
  {
   "cell_type": "markdown",
   "metadata": {
    "collapsed": true
   },
   "source": [
    "## Embedded code\n",
    "You can embed code meant for illustration instead of execution in Python:\n",
    "\n",
    "def f(x):\n",
    "    \"\"\"a docstring\"\"\"\n",
    "    return x**2\n",
    "\n",
    "\n",
    "if (i=0; i<n; i++) {\n",
    "  printf(\"hello %d\\n\", i);\n",
    "  x += 4;\n",
    "}"
   ]
  },
  {
   "cell_type": "markdown",
   "metadata": {},
   "source": [
    "# Markdown Tables\n",
    "Markdown Tables Generator\n",
    "In [ ]:\n",
    "\n",
    "\n",
    "| Type      |   | Description                                                         |\n",
    "|-----------|---|---------------------------------------------------------------------|\n",
    "|           |   |                                                                     |\n",
    "| date      |   | Store calendar date (year, month, day) using a Gregorian   Calendar |\n",
    "| time       |   | Store time of day as hours, minutes, seconds, microseconds          |\n",
    "| datetime  |   | Store both date and time                                            |\n",
    "| timedelta |   | Difference between two datetime values                              |\n",
    "\n",
    "\n",
    "\n",
    "\n"
   ]
  },
  {
   "cell_type": "markdown",
   "metadata": {},
   "source": [
    "# Beautiful Mathematics Typesetting\n",
    "[Tex](https://en.wikipedia.org/wiki/TeX)\n",
    "\n",
    "[LaTex](https://www.latex-project.org/)\n",
    "\n",
    "[Motivating Examples](http://jupyter-notebook.readthedocs.io/en/latest/examples/Notebook/Typesetting%20Equations.html)"
   ]
  },
  {
   "cell_type": "markdown",
   "metadata": {},
   "source": [
    "### The Lorenz Equations"
   ]
  },
  {
   "cell_type": "markdown",
   "metadata": {},
   "source": [
    "\\begin{align}\n",
    "\\dot{x} & = \\sigma(y-x) \\\\\n",
    "\\dot{y} & = \\rho x - y - xz \\\\\n",
    "\\dot{z} & = -\\beta z + xy\n",
    "\\end{align}"
   ]
  },
  {
   "cell_type": "markdown",
   "metadata": {},
   "source": [
    "### Identity of Ramanujan\n",
    "[Srinivasa Ramanujan](https://en.wikipedia.org/wiki/Srinivasa_Ramanujan)\n",
    "\n",
    "Self-taught, no formal training in mathematics, made contributions to:\n",
    "- mathematical analysis\n",
    "- number theory\n",
    "- infinite series\n",
    "- continued fractions"
   ]
  },
  {
   "cell_type": "markdown",
   "metadata": {},
   "source": [
    "\\begin{equation*}\n",
    "\\frac{1}{\\Bigl(\\sqrt{\\phi \\sqrt{5}}-\\phi\\Bigr) e^{\\frac25 \\pi}} =\n",
    "1+\\frac{e^{-2\\pi}} {1+\\frac{e^{-4\\pi}} {1+\\frac{e^{-6\\pi}}\n",
    "{1+\\frac{e^{-8\\pi}} {1+\\ldots} } } }\n",
    "\\end{equation*}"
   ]
  },
  {
   "cell_type": "markdown",
   "metadata": {},
   "source": [
    "# Markdown: light-weight markup language\n",
    "\n",
    "### Resources to get Started with Markdown\n",
    "\n",
    "- [Daring Fireball](https://daringfireball.net/projects/markdown/)\n",
    "- [Markdown cheat sheet](https://github.com/adam-p/markdown-here/wiki/Markdown-Cheatsheet)\n",
    "- [Github Mastering Markdown](https://guides.github.com/features/mastering-markdown/)\n",
    "    - pdf version [Github Mastering Markdown](https://guides.github.com/pdfs/markdown-cheatsheet-online.pdf)"
   ]
  }
 ],
 "metadata": {
  "kernelspec": {
   "display_name": "Python 2",
   "language": "python",
   "name": "python2"
  },
  "language_info": {
   "codemirror_mode": {
    "name": "ipython",
    "version": 2
   },
   "file_extension": ".py",
   "mimetype": "text/x-python",
   "name": "python",
   "nbconvert_exporter": "python",
   "pygments_lexer": "ipython2",
   "version": "2.7.13"
  }
 },
 "nbformat": 4,
 "nbformat_minor": 0
}
